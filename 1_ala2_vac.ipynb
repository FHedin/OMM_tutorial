{
 "cells": [
  {
   "cell_type": "code",
   "execution_count": 1,
   "metadata": {},
   "outputs": [],
   "source": [
    "#!/usr/bin/env python3\n",
    "\n",
    "# core openmm imports\n",
    "from simtk.openmm import *\n",
    "from simtk.openmm.app import *\n",
    "from simtk.unit import *\n",
    "\n",
    "\n",
    "# mdtraj provides extended trajectory output formats such as HDF5 and NetCDF\n",
    "import mdtraj as mdt\n",
    "\n",
    "# ngl view permits visualization of the system\n",
    "import nglview as ng"
   ]
  },
  {
   "cell_type": "markdown",
   "metadata": {},
   "source": [
    "Let us run a MD simulation of alanine dipeptide in vacuum using the AMBER 99 forcefield: first we need an input object (e.g. a pdb), and a forcefield definition (several are provided with the OpenMM installation)"
   ]
  },
  {
   "cell_type": "code",
   "execution_count": 6,
   "metadata": {},
   "outputs": [
    {
     "name": "stdout",
     "output_type": "stream",
     "text": [
      "Parsing PDB file...\n",
      "Parsing FF file(s)...\n"
     ]
    }
   ],
   "source": [
    "# Input Files\n",
    "print('Parsing PDB file...')\n",
    "pdb = PDBFile('ala2.pdb')\n",
    "\n",
    "print('Parsing FF file(s)...')\n",
    "forcefield = ForceField('amber99sbildn.xml')\n"
   ]
  },
  {
   "cell_type": "markdown",
   "metadata": {},
   "source": [
    "Define simulation parameters here: periodic boundaries if any, nonbonded interaction cutting scheme, rigid constraints for some of the bonds, etc."
   ]
  },
  {
   "cell_type": "code",
   "execution_count": 7,
   "metadata": {},
   "outputs": [],
   "source": [
    "# System Configuration\n",
    "nonbondedMethod = CutoffNonPeriodic\n",
    "nonbondedCutoff = 1.4*nanometers\n",
    "constraints = HBonds\n",
    "constraintTolerance = 0.00001"
   ]
  },
  {
   "cell_type": "markdown",
   "metadata": {},
   "source": [
    "Create an Integrator : we use 'Langevin' at a temperature of 300 K ; for systems where a simulation box is defined it is also possible to add a barostat and then run in the NPT ensemble"
   ]
  },
  {
   "cell_type": "code",
   "execution_count": 8,
   "metadata": {},
   "outputs": [],
   "source": [
    "# Integration Options\n",
    "dt = 0.002*picoseconds\n",
    "temperature = 300.00*kelvin\n",
    "friction = 2/picosecond\n",
    "\n",
    "integrator = LangevinIntegrator(temperature, friction, dt)\n",
    "integrator.setConstraintTolerance(constraintTolerance)\n"
   ]
  },
  {
   "cell_type": "markdown",
   "metadata": {},
   "source": [
    "An OpenMM platform object is used for providing a level of hardware abstraction : one can choose Reference, CPU, OpenCL or CUDA"
   ]
  },
  {
   "cell_type": "code",
   "execution_count": 9,
   "metadata": {},
   "outputs": [],
   "source": [
    "platform = Platform.getPlatformByName('CPU')\n",
    "platformProperties = {'CpuThreads':'1'}\n",
    "\n",
    "#platform = Platform.getPlatformByName('OpenCL')\n",
    "#platformProperties = {'OpenCLPrecision':'mixed'}\n",
    "\n",
    "#platform = Platform.getPlatformByName('CUDA')\n",
    "#platformProperties = {'CudaPrecision': 'mixed'}\n"
   ]
  },
  {
   "cell_type": "markdown",
   "metadata": {},
   "source": [
    "A system object is created from the pdb, the forcefield and some of the simulation parameters above defined : it contains coordinates, velocities,\n",
    "atom types, and all the data required for energy/force evaluations.\n",
    "\n",
    "But the computation is performed within a simulation object (using the above defined platform which actually contains the harware dependent compiled code)."
   ]
  },
  {
   "cell_type": "code",
   "execution_count": 10,
   "metadata": {},
   "outputs": [
    {
     "name": "stdout",
     "output_type": "stream",
     "text": [
      "Building system...\n"
     ]
    }
   ],
   "source": [
    "# Prepare the Simulation\n",
    "print('Building system...')\n",
    "topology = pdb.topology\n",
    "positions = pdb.positions\n",
    "system = forcefield.createSystem(topology, nonbondedMethod=nonbondedMethod,\n",
    "                                 nonbondedCutoff=nonbondedCutoff,\n",
    "                                 constraints=constraints)\n",
    "\n",
    "simulation = Simulation(topology, system, integrator,\n",
    "                        platform, platformProperties)\n",
    "\n",
    "# set initial positions to what was one obtained from PDB parsing\n",
    "simulation.context.setPositions(positions)\n"
   ]
  },
  {
   "cell_type": "markdown",
   "metadata": {},
   "source": [
    "Energy minimization is performed using the L-BFGS method (https://en.wikipedia.org/wiki/Limited-memory_BFGS)"
   ]
  },
  {
   "cell_type": "code",
   "execution_count": null,
   "metadata": {},
   "outputs": [],
   "source": [
    "# Minimize energy\n",
    "print('Performing energy minimization...')\n",
    "simulation.minimizeEnergy()\n",
    "\n",
    "# after minimization of the energy, set initial velocities to random distribution for a given temperature\n",
    "simulation.context.setVelocitiesToTemperature(temperature)\n"
   ]
  },
  {
   "cell_type": "code",
   "execution_count": null,
   "metadata": {},
   "outputs": [],
   "source": []
  }
 ],
 "metadata": {
  "kernelspec": {
   "display_name": "Python 3",
   "language": "python",
   "name": "python3"
  },
  "language_info": {
   "codemirror_mode": {
    "name": "ipython",
    "version": 3
   },
   "file_extension": ".py",
   "mimetype": "text/x-python",
   "name": "python",
   "nbconvert_exporter": "python",
   "pygments_lexer": "ipython3",
   "version": "3.5.4"
  }
 },
 "nbformat": 4,
 "nbformat_minor": 2
}
