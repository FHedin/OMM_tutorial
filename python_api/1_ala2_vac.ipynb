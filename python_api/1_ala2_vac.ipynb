{
 "cells": [
  {
   "cell_type": "code",
   "execution_count": null,
   "metadata": {
    "collapsed": true
   },
   "outputs": [],
   "source": [
    "#!/usr/bin/env python3\n",
    "\n",
    "# core openmm imports\n",
    "from simtk.openmm import *\n",
    "from simtk.openmm.app import *\n",
    "from simtk.unit import *\n",
    "\n",
    "from sys import stdout\n",
    "\n",
    "# mdtraj provides extended trajectory output formats such as HDF5 and NetCDF\n",
    "import mdtraj as mdt\n",
    "\n",
    "# ngl view permits visualization of the system\n",
    "import nglview as ng"
   ]
  },
  {
   "cell_type": "markdown",
   "metadata": {},
   "source": [
    "Let us run a MD simulation of alanine dipeptide in vacuum using the AMBER 99 forcefield: first we need an input object (e.g. a pdb), and a forcefield definition (several are provided with the OpenMM installation)"
   ]
  },
  {
   "cell_type": "code",
   "execution_count": null,
   "metadata": {
    "collapsed": true
   },
   "outputs": [],
   "source": [
    "# Input Files\n",
    "print('Parsing PDB file...')\n",
    "pdb = PDBFile('input/ala2.pdb')\n",
    "\n",
    "print('Parsing FF file(s)...')\n",
    "forcefield = ForceField('amber99sbildn.xml')\n"
   ]
  },
  {
   "cell_type": "markdown",
   "metadata": {},
   "source": [
    "Define simulation parameters here: periodic boundaries if any, nonbonded interaction cutting scheme, rigid constraints for some of the bonds, etc."
   ]
  },
  {
   "cell_type": "code",
   "execution_count": null,
   "metadata": {
    "collapsed": true
   },
   "outputs": [],
   "source": [
    "# System Configuration\n",
    "nonbondedMethod = CutoffNonPeriodic\n",
    "nonbondedCutoff = 1.4*nanometers\n",
    "constraints = HBonds\n",
    "constraintTolerance = 0.00001"
   ]
  },
  {
   "cell_type": "markdown",
   "metadata": {},
   "source": [
    "Create an Integrator : we use 'Langevin' at a temperature of 300 K ; for systems where a simulation box is defined it is also possible to add a barostat and then run in the NPT ensemble"
   ]
  },
  {
   "cell_type": "code",
   "execution_count": null,
   "metadata": {
    "collapsed": true
   },
   "outputs": [],
   "source": [
    "# Integration Options\n",
    "dt = 0.002*picoseconds\n",
    "temperature = 300.00*kelvin\n",
    "friction = 2/picosecond\n",
    "\n",
    "integrator = LangevinIntegrator(temperature, friction, dt)\n",
    "integrator.setConstraintTolerance(constraintTolerance)\n"
   ]
  },
  {
   "cell_type": "markdown",
   "metadata": {},
   "source": [
    "An OpenMM platform object is used for providing a level of hardware abstraction : one can choose Reference, CPU, OpenCL or CUDA"
   ]
  },
  {
   "cell_type": "code",
   "execution_count": null,
   "metadata": {
    "collapsed": true
   },
   "outputs": [],
   "source": [
    "platform = Platform.getPlatformByName('CPU')\n",
    "platformProperties = {'CpuThreads':'1'}\n",
    "\n",
    "#platform = Platform.getPlatformByName('OpenCL')\n",
    "#platformProperties = {'OpenCLPrecision':'mixed'}\n",
    "\n",
    "#platform = Platform.getPlatformByName('CUDA')\n",
    "#platformProperties = {'CudaPrecision': 'mixed'}\n"
   ]
  },
  {
   "cell_type": "markdown",
   "metadata": {},
   "source": [
    "A system object is created from the pdb, the forcefield and some of the simulation parameters above defined : it contains coordinates, velocities,\n",
    "atom types, and all the data required for energy/force evaluations.\n",
    "\n",
    "But the computation is performed within a simulation object (using the above defined platform which actually contains the harware dependent compiled code)."
   ]
  },
  {
   "cell_type": "code",
   "execution_count": null,
   "metadata": {
    "collapsed": true
   },
   "outputs": [],
   "source": [
    "# Prepare the Simulation\n",
    "print('Building system...')\n",
    "topology = pdb.topology\n",
    "positions = pdb.positions\n",
    "system = forcefield.createSystem(topology, nonbondedMethod=nonbondedMethod,\n",
    "                                 nonbondedCutoff=nonbondedCutoff,\n",
    "                                 constraints=constraints)\n",
    "\n",
    "simulation = Simulation(topology, system, integrator,\n",
    "                        platform, platformProperties)\n",
    "\n",
    "# set initial positions to what was one obtained from PDB parsing\n",
    "simulation.context.setPositions(positions)\n"
   ]
  },
  {
   "cell_type": "markdown",
   "metadata": {},
   "source": [
    "Energy minimization is performed using the L-BFGS method (https://en.wikipedia.org/wiki/Limited-memory_BFGS)"
   ]
  },
  {
   "cell_type": "code",
   "execution_count": null,
   "metadata": {
    "collapsed": true
   },
   "outputs": [],
   "source": [
    "# Minimize energy\n",
    "print('Performing energy minimization...')\n",
    "simulation.minimizeEnergy()\n",
    "\n",
    "# after minimization of the energy, set initial velocities to random distribution for a given temperature\n",
    "simulation.context.setVelocitiesToTemperature(temperature)\n"
   ]
  },
  {
   "cell_type": "markdown",
   "metadata": {},
   "source": [
    "Perform some steps of temperature equilibration :"
   ]
  },
  {
   "cell_type": "code",
   "execution_count": null,
   "metadata": {
    "collapsed": true
   },
   "outputs": [],
   "source": [
    "equilibrationSteps = 25000\n",
    "printFreq = 250\n",
    "\n",
    "# reporters objects are used for terminal IO and trajectory IO\n",
    "#  here we use the StateDataReporter for regularly printing simulation time, energy, etc. to a terminal\n",
    "simulation.reporters.append(StateDataReporter(stdout, printFreq, step=True, \n",
    "    time=True, potentialEnergy=True, kineticEnergy=True, temperature=True))\n",
    "\n",
    "print('Equilibrating...')\n",
    "simulation.step(equilibrationSteps)"
   ]
  },
  {
   "cell_type": "markdown",
   "metadata": {},
   "source": [
    "Now that the system is temperature equilirated we can run the simulation ; we use the mdtraj package which provides extra trajectory formats (e.g. HDF5)"
   ]
  },
  {
   "cell_type": "code",
   "execution_count": null,
   "metadata": {
    "collapsed": true
   },
   "outputs": [],
   "source": [
    "# reste step and time counters\n",
    "simulation.currentStep = 0\n",
    "simulation.context.setTime(0.0)\n",
    "\n",
    "# save the equilibration results to file : state is platform independent but less precise, checkpoint file\n",
    "#  contains the binary representation but it is platform dependent\n",
    "simulation.saveState('output/eq.state')\n",
    "simulation.saveCheckpoint('output/eq.chk')\n",
    "\n",
    "simsteps = 5e5 # 1 ns\n",
    "svfreq=500\n",
    "\n",
    "simulation.reporters = []\n",
    "\n",
    "simulation.reporters.append(StateDataReporter(stdout, svfreq, step=True, \n",
    "    time=True, potentialEnergy=True, kineticEnergy=True, totalEnergy=True,\n",
    "    temperature=True, progress=True,remainingTime=True, speed=True, totalSteps=simsteps))\n",
    "\n",
    "hdf5rep = mdt.reporters.HDF5Reporter('output/sim_1ns.hdf5', svfreq,\n",
    "                                     coordinates=True, time=True, cell=True, potentialEnergy=True,\n",
    "                                     kineticEnergy=True, temperature=True, velocities=True)\n",
    "\n",
    "# dcdrep = DCDReporter('output/sim_1ns.dcd', svfreq)\n",
    "\n",
    "simulation.reporters.append(hdf5rep)\n",
    "# simulation.reporters.append(dcdrep)\n",
    "\n",
    "simulation.step(simsteps)\n",
    "\n",
    "simulation.saveState('output/sim_1ns.state')\n",
    "simulation.saveCheckpoint('output/sim_1ns.chk')\n",
    "\n",
    "hdf5rep.close()\n"
   ]
  },
  {
   "cell_type": "markdown",
   "metadata": {},
   "source": [
    "When simulation finished we can have a look at the trajectory using an external trajectory viewer (PyMOL, VMD,...) or using nglview within this jupyter notebook:"
   ]
  },
  {
   "cell_type": "code",
   "execution_count": null,
   "metadata": {
    "collapsed": true
   },
   "outputs": [],
   "source": [
    "traj = mdt.load_hdf5(\"output/sim_1ns.hdf5\")\n",
    "\n",
    "view = ng.show_mdtraj(traj)\n",
    "view.add_ball_and_stick(\"all\")\n",
    "\n",
    "view"
   ]
  }
 ],
 "metadata": {
  "kernelspec": {
   "display_name": "Python 3",
   "language": "python",
   "name": "python3"
  },
  "language_info": {
   "codemirror_mode": {
    "name": "ipython",
    "version": 3
   },
   "file_extension": ".py",
   "mimetype": "text/x-python",
   "name": "python",
   "nbconvert_exporter": "python",
   "pygments_lexer": "ipython3",
   "version": "3.5.4"
  }
 },
 "nbformat": 4,
 "nbformat_minor": 2
}
